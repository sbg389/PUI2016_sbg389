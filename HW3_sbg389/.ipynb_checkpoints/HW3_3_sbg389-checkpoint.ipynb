{
 "cells": [
  {
   "cell_type": "markdown",
   "metadata": {},
   "source": [
    "## HW 3 Assignment III\n",
    "###  Q: is the new Bus route improving commute?\n",
    "\n",
    "### H0: the commute time is the same or longer with the new bus route as it was before\n",
    "### Tnew >= Told \n",
    "\n",
    "### Ha: the commute time is shorter with the new bus route as it was before with a significance threshold of a 5%\n",
    "### Tnew < Told, α = 0.05\n",
    "\n",
    "### Known information about the previous route (population) N(μ=36, σ=6)"
   ]
  },
  {
   "cell_type": "code",
   "execution_count": 40,
   "metadata": {
    "collapsed": false
   },
   "outputs": [
    {
     "name": "stdout",
     "output_type": "stream",
     "text": [
      "  % Total    % Received % Xferd  Average Speed   Time    Time     Time  Current\r\n",
      "                                 Dload  Upload   Total   Spent    Left  Speed\r\n",
      "\r",
      "  0     0    0     0    0     0      0      0 --:--:-- --:--:-- --:--:--     0\r",
      "107  1179  107  1179    0     0   9013      0 --:--:-- --:--:-- --:--:--  575k\r\n"
     ]
    }
   ],
   "source": [
    "from __future__ import print_function\n",
    "import pandas as pd\n",
    "import numpy as np\n",
    "import math\n",
    "\n",
    "#Obtain the time table from fb55 repo using the curl command and storing a locla copy\n",
    "!curl -O https://raw.githubusercontent.com/fedhere/PUI2016_fb55/master/Lab3_fb55/times.txt"
   ]
  },
  {
   "cell_type": "code",
   "execution_count": 38,
   "metadata": {
    "collapsed": false
   },
   "outputs": [
    {
     "name": "stdout",
     "output_type": "stream",
     "text": [
      "New route mean: 34.4661616883\n",
      "New route std:   7.10150406819\n",
      "The lenght of the sample is: 100\n"
     ]
    }
   ],
   "source": [
    "#Load the timearray into a numpy array, caculate mean and standard deviation\n",
    "timearray = np.loadtxt('./times.txt', dtype=float)\n",
    "print (\"New route mean: \" + str(timearray.mean()))\n",
    "print (\"New route std:   \" + str(timearray.std()))\n",
    "print (\"The lenght of the sample is: \" + str(len(timearray)))\n",
    "\n",
    "#Calculating the z-test"
   ]
  },
  {
   "cell_type": "markdown",
   "metadata": {
    "collapsed": true
   },
   "source": [
    "The Z-Test is calculated as\n",
    "\n",
    "$z=\\frac{\\bar{x}-\\mu}{\\sigma/\\sqrt{n}}$"
   ]
  },
  {
   "cell_type": "code",
   "execution_count": 48,
   "metadata": {
    "collapsed": false
   },
   "outputs": [
    {
     "name": "stdout",
     "output_type": "stream",
     "text": [
      "The Z-score is: -2.55\n"
     ]
    }
   ],
   "source": [
    "#From the original problem information we know that μ=36, σ=6)\n",
    "z = (34.47 - 36)/ (6/math.sqrt(100))\n",
    "print (\"The Z-score is: \" + str(z))"
   ]
  },
  {
   "cell_type": "markdown",
   "metadata": {},
   "source": [
    "That z scores means that the mean time travel on the new route is 2.55 standard deviations away from the previous, which is greater than the two standard deviations (5%), which enables us to falsify our hypotesis"
   ]
  }
 ],
 "metadata": {
  "kernelspec": {
   "display_name": "PUI2016_Python2",
   "language": "python",
   "name": "pui2016_python2"
  },
  "language_info": {
   "codemirror_mode": {
    "name": "ipython",
    "version": 2
   },
   "file_extension": ".py",
   "mimetype": "text/x-python",
   "name": "python",
   "nbconvert_exporter": "python",
   "pygments_lexer": "ipython2",
   "version": "2.7.12"
  }
 },
 "nbformat": 4,
 "nbformat_minor": 0
}
