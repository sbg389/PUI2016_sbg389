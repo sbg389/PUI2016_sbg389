{
 "cells": [
  {
   "cell_type": "markdown",
   "metadata": {},
   "source": [
    "# HW3 Assignment II Notebook\n",
    "### This notebook contains the second deliverable for HW3\n",
    "This deliverable presents the initial steps of a data analysis using the Citibike Punblic Datasets\n",
    "\n",
    "The general flow of the notebook follows:\n",
    "\n",
    "1) Present the general idea and state my Null and Alternate Hypothesis\n",
    "\n",
    "2) Fetch the Citibike Data from the AWS Blob and store a local copy\n",
    "\n",
    "3) Use pandas to read in the local copy of the CitiBike files,into a DF\n",
    "\n",
    "4) Display the top few rows of the DF in your notebook. This table must be rendered.\n",
    "\n",
    "5) Display the reducted dataframe. This table must be rendered.\n",
    "\n",
    "6) Plot your data distributions."
   ]
  },
  {
   "cell_type": "markdown",
   "metadata": {},
   "source": [
    "### Idea: There is higher usage of citibikes during rush hours on weekdays than during the same hours on weekends\n",
    "\n",
    "#### Rush Hours is defined by the following intervals: 6:30 - 9:30 a.m.,3:30 - 8 p.m (http://web.mta.info/nyct/subway/howto_sub.htm)\n",
    "\n",
    "#### H0 The ratio of rush hour trips to non-rush hour trips on weekdays is the same or lower than the ratio of rush hour trips to non-rush hour trips on weekends.\n",
    "\n",
    "#### H1 The ratio of rush hour trips to non-rush our trips on weekdays is higher than the ration of rush hour trips to non rush hour trips on weekdends."
   ]
  },
  {
   "cell_type": "code",
   "execution_count": 36,
   "metadata": {
    "collapsed": false
   },
   "outputs": [
    {
     "name": "stdout",
     "output_type": "stream",
     "text": [
      "Populating the interactive namespace from numpy and matplotlib\n"
     ]
    }
   ],
   "source": [
    "#Import modules, initialize the random generator\n",
    "from __future__ import print_function, division\n",
    "import pandas as pd\n",
    "import numpy as np\n",
    "import pylab as pl\n",
    "import os\n",
    "import matplotlib.mlab as mlab\n",
    "\n",
    "%pylab inline\n",
    "\n",
    "#puidir = os.getenv(\"PUIDATA\")\n",
    "#print (puidir)"
   ]
  },
  {
   "cell_type": "code",
   "execution_count": 2,
   "metadata": {
    "collapsed": true
   },
   "outputs": [],
   "source": [
    "#Helper function to download local copies of the Citibike data by Federica Bianco\n",
    "#https://github.com/fedhere/PUI2016_fb55/blob/master/HW3_fb55/citibikes_gender.ipynb\n",
    "\n",
    "def getCitiBikeCSV(datestring):\n",
    "    print (\"Downloading\", datestring)\n",
    "    ### First I will heck that it is not already there\n",
    "    if not os.path.isfile(os.getenv(\"PUIDATA\") + \"/\" + datestring + \"-citibike-tripdata.csv\"):\n",
    "        if os.path.isfile(datestring + \"-citibike-tripdata.csv\"):\n",
    "            # if in the current dir just move it\n",
    "            if os.system(\"mv \" + datestring + \"-citibike-tripdata.csv \" + os.getenv(\"PUIDATA\")):\n",
    "                print (\"Error moving file!, Please check!\")\n",
    "        #otherwise start looking for the zip file\n",
    "        else:\n",
    "            if not os.path.isfile(os.getenv(\"PUIDATA\") + \"/\" + datestring + \"-citibike-tripdata.zip\"):\n",
    "                if not os.path.isfile(datestring + \"-citibike-tripdata.zip\"):\n",
    "                    os.system(\"curl -O https://s3.amazonaws.com/tripdata/\" + datestring + \"-citibike-tripdata.zip\")\n",
    "                ###  To move it I use the os.system() functions to run bash commands with arguments\n",
    "                os.system(\"mv \" + datestring + \"-citibike-tripdata.zip \" + os.getenv(\"PUIDATA\"))\n",
    "            ### unzip the csv \n",
    "            os.system(\"unzip \" + os.getenv(\"PUIDATA\") + \"/\" + datestring + \"-citibike-tripdata.zip\")\n",
    "            ## NOTE: old csv citibike data had a different name structure. \n",
    "            if '2014' in datestring:\n",
    "                os.system(\"mv \" + datestring[:4] + '-' +  datestring[4:] + \n",
    "                          \"\\ -\\ Citi\\ Bike\\ trip\\ data.csv \" + datestring + \"-citibike-tripdata.csv\")\n",
    "            os.system(\"mv \" + datestring + \"-citibike-tripdata.csv \" + os.getenv(\"PUIDATA\"))\n",
    "    ### One final check:\n",
    "    if not os.path.isfile(os.getenv(\"PUIDATA\") + \"/\" + datestring + \"-citibike-tripdata.csv\"):\n",
    "        print (\"WARNING!!! something is wrong: the file is not there!\")\n",
    "\n",
    "    else:\n",
    "        print (\"file in place, you can continue\")"
   ]
  },
  {
   "cell_type": "code",
   "execution_count": 49,
   "metadata": {
    "collapsed": false
   },
   "outputs": [
    {
     "name": "stdout",
     "output_type": "stream",
     "text": [
      "Downloading 201407\n",
      "file in place, you can continue\n"
     ]
    }
   ],
   "source": [
    "#Download the data using Federica's helper function\n",
    "datestring = '201407'\n",
    "getCitiBikeCSV(datestring)"
   ]
  },
  {
   "cell_type": "code",
   "execution_count": 50,
   "metadata": {
    "collapsed": false
   },
   "outputs": [
    {
     "data": {
      "text/html": [
       "<div>\n",
       "<table border=\"1\" class=\"dataframe\">\n",
       "  <thead>\n",
       "    <tr style=\"text-align: right;\">\n",
       "      <th></th>\n",
       "      <th>tripduration</th>\n",
       "      <th>starttime</th>\n",
       "      <th>stoptime</th>\n",
       "      <th>start station id</th>\n",
       "      <th>start station name</th>\n",
       "      <th>start station latitude</th>\n",
       "      <th>start station longitude</th>\n",
       "      <th>end station id</th>\n",
       "      <th>end station name</th>\n",
       "      <th>end station latitude</th>\n",
       "      <th>end station longitude</th>\n",
       "      <th>bikeid</th>\n",
       "      <th>usertype</th>\n",
       "      <th>birth year</th>\n",
       "      <th>gender</th>\n",
       "      <th>date</th>\n",
       "      <th>dateIndex</th>\n",
       "    </tr>\n",
       "  </thead>\n",
       "  <tbody>\n",
       "    <tr>\n",
       "      <th>0</th>\n",
       "      <td>404</td>\n",
       "      <td>2014-07-01 00:00:04</td>\n",
       "      <td>2014-07-01 00:06:48</td>\n",
       "      <td>545</td>\n",
       "      <td>E 23 St &amp; 1 Ave</td>\n",
       "      <td>40.736502</td>\n",
       "      <td>-73.978095</td>\n",
       "      <td>402</td>\n",
       "      <td>Broadway &amp; E 22 St</td>\n",
       "      <td>40.740343</td>\n",
       "      <td>-73.989551</td>\n",
       "      <td>19578</td>\n",
       "      <td>Subscriber</td>\n",
       "      <td>1987</td>\n",
       "      <td>2</td>\n",
       "      <td>2014-07-01 00:00:04</td>\n",
       "      <td>2014-07-01 00:00:04</td>\n",
       "    </tr>\n",
       "    <tr>\n",
       "      <th>1</th>\n",
       "      <td>850</td>\n",
       "      <td>2014-07-01 00:00:06</td>\n",
       "      <td>2014-07-01 00:14:16</td>\n",
       "      <td>238</td>\n",
       "      <td>Bank St &amp; Washington St</td>\n",
       "      <td>40.736197</td>\n",
       "      <td>-74.008592</td>\n",
       "      <td>458</td>\n",
       "      <td>11 Ave &amp; W 27 St</td>\n",
       "      <td>40.751396</td>\n",
       "      <td>-74.005226</td>\n",
       "      <td>19224</td>\n",
       "      <td>Subscriber</td>\n",
       "      <td>1987</td>\n",
       "      <td>1</td>\n",
       "      <td>2014-07-01 00:00:06</td>\n",
       "      <td>2014-07-01 00:00:06</td>\n",
       "    </tr>\n",
       "    <tr>\n",
       "      <th>2</th>\n",
       "      <td>1550</td>\n",
       "      <td>2014-07-01 00:00:21</td>\n",
       "      <td>2014-07-01 00:26:11</td>\n",
       "      <td>223</td>\n",
       "      <td>W 13 St &amp; 7 Ave</td>\n",
       "      <td>40.737815</td>\n",
       "      <td>-73.999947</td>\n",
       "      <td>539</td>\n",
       "      <td>Metropolitan Ave &amp; Bedford Ave</td>\n",
       "      <td>40.715348</td>\n",
       "      <td>-73.960241</td>\n",
       "      <td>17627</td>\n",
       "      <td>Subscriber</td>\n",
       "      <td>1973</td>\n",
       "      <td>2</td>\n",
       "      <td>2014-07-01 00:00:21</td>\n",
       "      <td>2014-07-01 00:00:21</td>\n",
       "    </tr>\n",
       "    <tr>\n",
       "      <th>3</th>\n",
       "      <td>397</td>\n",
       "      <td>2014-07-01 00:00:29</td>\n",
       "      <td>2014-07-01 00:07:06</td>\n",
       "      <td>224</td>\n",
       "      <td>Spruce St &amp; Nassau St</td>\n",
       "      <td>40.711464</td>\n",
       "      <td>-74.005524</td>\n",
       "      <td>2008</td>\n",
       "      <td>Little West St &amp; 1 Pl</td>\n",
       "      <td>40.705693</td>\n",
       "      <td>-74.016777</td>\n",
       "      <td>15304</td>\n",
       "      <td>Subscriber</td>\n",
       "      <td>1982</td>\n",
       "      <td>1</td>\n",
       "      <td>2014-07-01 00:00:29</td>\n",
       "      <td>2014-07-01 00:00:29</td>\n",
       "    </tr>\n",
       "  </tbody>\n",
       "</table>\n",
       "</div>"
      ],
      "text/plain": [
       "   tripduration            starttime             stoptime  start station id  \\\n",
       "0           404  2014-07-01 00:00:04  2014-07-01 00:06:48               545   \n",
       "1           850  2014-07-01 00:00:06  2014-07-01 00:14:16               238   \n",
       "2          1550  2014-07-01 00:00:21  2014-07-01 00:26:11               223   \n",
       "3           397  2014-07-01 00:00:29  2014-07-01 00:07:06               224   \n",
       "\n",
       "        start station name  start station latitude  start station longitude  \\\n",
       "0          E 23 St & 1 Ave               40.736502               -73.978095   \n",
       "1  Bank St & Washington St               40.736197               -74.008592   \n",
       "2          W 13 St & 7 Ave               40.737815               -73.999947   \n",
       "3    Spruce St & Nassau St               40.711464               -74.005524   \n",
       "\n",
       "   end station id                end station name  end station latitude  \\\n",
       "0             402              Broadway & E 22 St             40.740343   \n",
       "1             458                11 Ave & W 27 St             40.751396   \n",
       "2             539  Metropolitan Ave & Bedford Ave             40.715348   \n",
       "3            2008           Little West St & 1 Pl             40.705693   \n",
       "\n",
       "   end station longitude  bikeid    usertype birth year  gender  \\\n",
       "0             -73.989551   19578  Subscriber       1987       2   \n",
       "1             -74.005226   19224  Subscriber       1987       1   \n",
       "2             -73.960241   17627  Subscriber       1973       2   \n",
       "3             -74.016777   15304  Subscriber       1982       1   \n",
       "\n",
       "                 date           dateIndex  \n",
       "0 2014-07-01 00:00:04 2014-07-01 00:00:04  \n",
       "1 2014-07-01 00:00:06 2014-07-01 00:00:06  \n",
       "2 2014-07-01 00:00:21 2014-07-01 00:00:21  \n",
       "3 2014-07-01 00:00:29 2014-07-01 00:00:29  "
      ]
     },
     "execution_count": 50,
     "metadata": {},
     "output_type": "execute_result"
    }
   ],
   "source": [
    "#Read the CSV into a data framw\n",
    "df=pd.read_csv(os.getenv(\"PUIDATA\")+'/' + datestring + '-citibike-tripdata.csv')\n",
    "\n",
    "#Handle conversion of the string date into a new date collumn\n",
    "df['date'] = pd.to_datetime(df['starttime'])\n",
    "df['dateIndex'] = pd.to_datetime(df['starttime'])\n",
    "\n",
    "# Select only subscribers\n",
    "df = df[(df['usertype'] == 'Subscriber')]\n",
    "df.head(4)"
   ]
  },
  {
   "cell_type": "code",
   "execution_count": 51,
   "metadata": {
    "collapsed": false
   },
   "outputs": [
    {
     "data": {
      "text/html": [
       "<div>\n",
       "<table border=\"1\" class=\"dataframe\">\n",
       "  <thead>\n",
       "    <tr style=\"text-align: right;\">\n",
       "      <th></th>\n",
       "      <th>date</th>\n",
       "    </tr>\n",
       "    <tr>\n",
       "      <th>dateIndex</th>\n",
       "      <th></th>\n",
       "    </tr>\n",
       "  </thead>\n",
       "  <tbody>\n",
       "    <tr>\n",
       "      <th>2014-07-01 00:00:04</th>\n",
       "      <td>2014-07-01 00:00:04</td>\n",
       "    </tr>\n",
       "    <tr>\n",
       "      <th>2014-07-01 00:00:06</th>\n",
       "      <td>2014-07-01 00:00:06</td>\n",
       "    </tr>\n",
       "    <tr>\n",
       "      <th>2014-07-01 00:00:21</th>\n",
       "      <td>2014-07-01 00:00:21</td>\n",
       "    </tr>\n",
       "    <tr>\n",
       "      <th>2014-07-01 00:00:29</th>\n",
       "      <td>2014-07-01 00:00:29</td>\n",
       "    </tr>\n",
       "    <tr>\n",
       "      <th>2014-07-01 00:00:37</th>\n",
       "      <td>2014-07-01 00:00:37</td>\n",
       "    </tr>\n",
       "  </tbody>\n",
       "</table>\n",
       "</div>"
      ],
      "text/plain": [
       "                                   date\n",
       "dateIndex                              \n",
       "2014-07-01 00:00:04 2014-07-01 00:00:04\n",
       "2014-07-01 00:00:06 2014-07-01 00:00:06\n",
       "2014-07-01 00:00:21 2014-07-01 00:00:21\n",
       "2014-07-01 00:00:29 2014-07-01 00:00:29\n",
       "2014-07-01 00:00:37 2014-07-01 00:00:37"
      ]
     },
     "execution_count": 51,
     "metadata": {},
     "output_type": "execute_result"
    }
   ],
   "source": [
    "#Selecting the columns that are necessary for the analsis\n",
    "df = df[['date','dateIndex']]\n",
    "df.set_index('dateIndex', inplace = True)\n",
    "df.head()\n"
   ]
  },
  {
   "cell_type": "code",
   "execution_count": 52,
   "metadata": {
    "collapsed": false
   },
   "outputs": [
    {
     "data": {
      "text/html": [
       "<div>\n",
       "<table border=\"1\" class=\"dataframe\">\n",
       "  <thead>\n",
       "    <tr style=\"text-align: right;\">\n",
       "      <th></th>\n",
       "      <th>date</th>\n",
       "    </tr>\n",
       "    <tr>\n",
       "      <th>dateIndex</th>\n",
       "      <th></th>\n",
       "    </tr>\n",
       "  </thead>\n",
       "  <tbody>\n",
       "    <tr>\n",
       "      <th>2014-07-01 06:30:04</th>\n",
       "      <td>2014-07-01 06:30:04</td>\n",
       "    </tr>\n",
       "    <tr>\n",
       "      <th>2014-07-01 06:30:05</th>\n",
       "      <td>2014-07-01 06:30:05</td>\n",
       "    </tr>\n",
       "    <tr>\n",
       "      <th>2014-07-01 06:30:06</th>\n",
       "      <td>2014-07-01 06:30:06</td>\n",
       "    </tr>\n",
       "    <tr>\n",
       "      <th>2014-07-01 06:30:09</th>\n",
       "      <td>2014-07-01 06:30:09</td>\n",
       "    </tr>\n",
       "    <tr>\n",
       "      <th>2014-07-01 06:30:10</th>\n",
       "      <td>2014-07-01 06:30:10</td>\n",
       "    </tr>\n",
       "  </tbody>\n",
       "</table>\n",
       "</div>"
      ],
      "text/plain": [
       "                                   date\n",
       "dateIndex                              \n",
       "2014-07-01 06:30:04 2014-07-01 06:30:04\n",
       "2014-07-01 06:30:05 2014-07-01 06:30:05\n",
       "2014-07-01 06:30:06 2014-07-01 06:30:06\n",
       "2014-07-01 06:30:09 2014-07-01 06:30:09\n",
       "2014-07-01 06:30:10 2014-07-01 06:30:10"
      ]
     },
     "execution_count": 52,
     "metadata": {},
     "output_type": "execute_result"
    }
   ],
   "source": [
    "#Create a dataframe contining the rush hour trips, using the dataframe between_time method.\n",
    "#The method allows selecting values between particular times of the day\n",
    "#http://pandas.pydata.org/pandas-docs/stable/generated/pandas.DataFrame.between_time.html\n",
    "#http://stackoverflow.com/questions/24576786/how-to-use-dataframe-between-time-function \n",
    "\n",
    "#We take the MTA informal definition of rush hours: \n",
    "#(approximately 6:30 - 9:30 a.m., and approximately 3:30 - 8 p.m)\n",
    "#http://web.mta.info/nyct/subway/howto_sub.htm\n",
    "\n",
    "df_rushMorning = df.between_time(\"6:30\",\"9:30\")\n",
    "df_rushEvening = df.between_time(\"15:30\",\"20:00\")\n",
    "df_rush = pd.concat(([df_rushMorning,df_rushEvening]))\n",
    "df_rush.head()"
   ]
  },
  {
   "cell_type": "code",
   "execution_count": 53,
   "metadata": {
    "collapsed": false
   },
   "outputs": [
    {
     "data": {
      "text/html": [
       "<div>\n",
       "<table border=\"1\" class=\"dataframe\">\n",
       "  <thead>\n",
       "    <tr style=\"text-align: right;\">\n",
       "      <th></th>\n",
       "      <th>date</th>\n",
       "    </tr>\n",
       "    <tr>\n",
       "      <th>dateIndex</th>\n",
       "      <th></th>\n",
       "    </tr>\n",
       "  </thead>\n",
       "  <tbody>\n",
       "    <tr>\n",
       "      <th>2014-07-01 09:30:01</th>\n",
       "      <td>2014-07-01 09:30:01</td>\n",
       "    </tr>\n",
       "    <tr>\n",
       "      <th>2014-07-01 09:30:04</th>\n",
       "      <td>2014-07-01 09:30:04</td>\n",
       "    </tr>\n",
       "    <tr>\n",
       "      <th>2014-07-01 09:30:05</th>\n",
       "      <td>2014-07-01 09:30:05</td>\n",
       "    </tr>\n",
       "    <tr>\n",
       "      <th>2014-07-01 09:30:09</th>\n",
       "      <td>2014-07-01 09:30:09</td>\n",
       "    </tr>\n",
       "    <tr>\n",
       "      <th>2014-07-01 09:30:09</th>\n",
       "      <td>2014-07-01 09:30:09</td>\n",
       "    </tr>\n",
       "  </tbody>\n",
       "</table>\n",
       "</div>"
      ],
      "text/plain": [
       "                                   date\n",
       "dateIndex                              \n",
       "2014-07-01 09:30:01 2014-07-01 09:30:01\n",
       "2014-07-01 09:30:04 2014-07-01 09:30:04\n",
       "2014-07-01 09:30:05 2014-07-01 09:30:05\n",
       "2014-07-01 09:30:09 2014-07-01 09:30:09\n",
       "2014-07-01 09:30:09 2014-07-01 09:30:09"
      ]
     },
     "execution_count": 53,
     "metadata": {},
     "output_type": "execute_result"
    }
   ],
   "source": [
    "#Create a dataframe containing the non rush hour trips, using the dataframe between_time method.\n",
    "\n",
    "df_nonRushDay = df.between_time(\"9:30\",\"15:30\")\n",
    "df_nonRushNight = df.between_time(\"20:00\",\"6:30\")\n",
    "df_nonRush = pd.concat(([df_nonRushDay,df_nonRushNight]))\n",
    "df_nonRush.head()"
   ]
  },
  {
   "cell_type": "code",
   "execution_count": 71,
   "metadata": {
    "collapsed": false
   },
   "outputs": [
    {
     "data": {
      "text/plain": [
       "<matplotlib.text.Text at 0x7fc528d673d0>"
      ]
     },
     "execution_count": 71,
     "metadata": {},
     "output_type": "execute_result"
    },
    {
     "data": {
      "image/png": "[encoded data removed]",
      "text/plain": [
       "<matplotlib.figure.Figure at 0x7fc528dea150>"
      ]
     },
     "metadata": {},
     "output_type": "display_data"
    }
   ],
   "source": [
    "#Plotting the data for both dataframes trying to express the difference that we sustain on the hypotesis\n",
    "\n",
    "fig=pl.figure(figsize(10,8))\n",
    "\n",
    "# Agregate the data for each of the dataframws by day of the week\n",
    "df_countRushDay = df_rush.date.groupby([df_rush.date.dt.weekday]).count()\n",
    "df_countNonRushDay = df_nonRush.date.groupby([df_nonRush.date.dt.weekday]).count()\n",
    "\n",
    "#print (df_countNonRushDay)\n",
    "#print (df_countRushDay)\n",
    "\n",
    "#The ratio between rush hour trips and Non Rush Hour Trips\n",
    "      \n",
    "ax = ((df_countRushDay/df_countNonRushDay)).plot(kind=\"bar\", alpha=0.5)\n",
    "ax.xaxis.set_ticklabels(['Mon','Tue','Wed','Thu','Fri','Sat','Sun'], fontsize=10)\n",
    "ax.set_ylabel (\"Ratio of Rush Hour Trips / Non Rush Hour Trips\")\n",
    "ax.set_xlabel (\"Day of the week\")\n",
    "ax.set_title ('Figure I: Ratio of Rush hour trips Vs Non Rush Hour trips per day of the week', fontsize = 12)\n"
   ]
  },
  {
   "cell_type": "code",
   "execution_count": 74,
   "metadata": {
    "collapsed": false
   },
   "outputs": [
    {
     "data": {
      "text/plain": [
       "<matplotlib.text.Text at 0x7fc528b2c1d0>"
      ]
     },
     "execution_count": 74,
     "metadata": {},
     "output_type": "execute_result"
    },
    {
     "data": {
      "image/png": "[encoded data removed]",
      "text/plain": [
       "<matplotlib.figure.Figure at 0x7fc528bcd150>"
      ]
     },
     "metadata": {},
     "output_type": "display_data"
    }
   ],
   "source": [
    "#The ratio between rush hour trips and Non Rush Hour Trips\n",
    "\n",
    "ax = ((df_countRushDay/(df_countNonRushDay+df_countRushDay)).plot(kind=\"bar\", alpha=0.5))\n",
    "ax.xaxis.set_ticklabels(['Mon','Tue','Wed','Thu','Fri','Sat','Sun'], fontsize=10)\n",
    "ax.set_ylabel (\"Ratio of Rush Hour Trips / Total Trips\")\n",
    "ax.set_xlabel (\"Day of the week\")\n",
    "ax.set_title ('Figure I: Ratio of Rush hour trips Vs Total trips per day of the week', fontsize = 12)\n"
   ]
  },
  {
   "cell_type": "code",
   "execution_count": 61,
   "metadata": {
    "collapsed": false
   },
   "outputs": [
    {
     "name": "stdout",
     "output_type": "stream",
     "text": [
      "The average ratio rush hour trips / non rush hour trips during the week is: 1.41279475945\n",
      "The average ratio rush hour trips / non rush hour trips during the weekends is: 0.630081196268\n"
     ]
    }
   ],
   "source": [
    "print (\"The average ratio rush hour trips / non rush hour trips during the week is: \"\n",
    "       + str(((df_countRushDay/df_countNonRushDay)[:5]).mean()))\n",
    "\n",
    "print (\"The average ratio rush hour trips / non rush hour trips during the weekends is: \"\n",
    "       + str(((df_countRushDay/df_countNonRushDay)[5:]).mean()))"
   ]
  },
  {
   "cell_type": "code",
   "execution_count": null,
   "metadata": {
    "collapsed": true
   },
   "outputs": [],
   "source": []
  },
  {
   "cell_type": "code",
   "execution_count": 64,
   "metadata": {
    "collapsed": false
   },
   "outputs": [
    {
     "name": "stdout",
     "output_type": "stream",
     "text": [
      "The percentage of rush riders for week days is: 0.585144106782\n",
      "The percentage of rush riders for weekends is: 0.386533820546\n",
      "we must assess the statistical significance\n"
     ]
    }
   ],
   "source": [
    "# Calculating the proportions for rush hour riders and doing z test\n",
    "alpha=0.05\n",
    "\n",
    "n_0 = (df_countRushDay+df_countNonRushDay)[:5].sum() # total rides weekdays\n",
    "n_1 = (df_countRushDay+df_countNonRushDay)[5:].sum() # total rides weekends\n",
    "\n",
    "rushRiders_week = (df_countRushDay)[:5].sum()\n",
    "rushRiders_weeked = (df_countRushDay)[5:].sum()\n",
    "\n",
    "P_0 = rushRiders_week / n_0\n",
    "P_1 = rushRiders_weeked / n_1\n",
    "\n",
    "print (\"The percentage of rush riders for week days is: \"\n",
    "       + str(P_0))\n",
    "\n",
    "print (\"The percentage of rush riders for weekends is: \"\n",
    "       + str(P_1))\n",
    "\n",
    "# Null Hypothesis: P_1 >= P_0 (The percentage of rush hour riders is biger during weekdays)\n",
    "\n",
    "if P_1 - P_0 >= 0:\n",
    "    # we are done\n",
    "    print (\"the Null holds\")\n",
    "else:\n",
    "    print (\"we must assess the statistical significance\")"
   ]
  },
  {
   "cell_type": "code",
   "execution_count": 75,
   "metadata": {
    "collapsed": false
   },
   "outputs": [
    {
     "name": "stdout",
     "output_type": "stream",
     "text": [
      "0.547473951132\n",
      "The z score is 144.210612658\n",
      "is the p value 0.00 smaller than the critical value 0.05?\n",
      "YES!\n",
      "the Null hypothesis is rejected\n"
     ]
    }
   ],
   "source": [
    "#define the sample proportion first\n",
    "sp = (P_0 * n_0 + P_1 * n_1) / (n_1 + n_0)\n",
    "print (sp)\n",
    "\n",
    "# functions to calculate the standard error and p\n",
    "\n",
    "p = lambda p0, p1, n0, n1: (p0 * n0 + p1 * n1) / (n0 + n1)\n",
    "#standard error\n",
    "se = lambda p, n0, n1: np.sqrt(p * (1 - p) * (1.0 / n0 + 1.0 / n1)) \n",
    "\n",
    "\n",
    "zscore = lambda p0, p1, s : (p0 - p1) / s\n",
    "z = zscore(P_0, P_1, se(p(P_0, P_1, n_0, n_1), n_0, n_1))\n",
    "print (\"The z score is \" + str(z))\n",
    "\n",
    "## since the largest number we read off the table for is (way) smaller \n",
    "## than the value for our statistic \n",
    "## our p-value will be smaller than it would be if calculated using \n",
    "## (e.g.) .9998 (and in fact using 1.0000 which is the largest number \n",
    "## in the table). Using 0.9998 is a **conservative** approach. \n",
    "\n",
    "p_riders = 1 - 0.9999\n",
    "\n",
    "def report_result(p,a):\n",
    "    print ('is the p value ' + \n",
    "           '{0:.2f} smaller than the critical value {1:.2f}?'.format(p,a))\n",
    "    if p < a:\n",
    "        print (\"YES!\")\n",
    "    else: \n",
    "        print (\"NO!\")\n",
    "    \n",
    "    print ('the Null hypothesis is {}'.format(\\\n",
    "                            'rejected' if p < a  else 'not rejected') )\n",
    "    \n",
    "report_result(p_riders, alpha)"
   ]
  }
 ],
 "metadata": {
  "kernelspec": {
   "display_name": "PUI2016_Python2",
   "language": "python",
   "name": "pui2016_python2"
  },
  "language_info": {
   "codemirror_mode": {
    "name": "ipython",
    "version": 2
   },
   "file_extension": ".py",
   "mimetype": "text/x-python",
   "name": "python",
   "nbconvert_exporter": "python",
   "pygments_lexer": "ipython2",
   "version": "2.7.12"
  }
 },
 "nbformat": 4,
 "nbformat_minor": 0
}
