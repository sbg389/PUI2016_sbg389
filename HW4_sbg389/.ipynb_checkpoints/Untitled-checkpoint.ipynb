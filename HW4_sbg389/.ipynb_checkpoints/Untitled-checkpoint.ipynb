{
 "cells": [
  {
   "cell_type": "code",
   "execution_count": 2,
   "metadata": {
    "collapsed": false
   },
   "outputs": [],
   "source": [
    "from __future__ import print_function, division\n",
    "import numpy as np\n",
    "import pandas as pd"
   ]
  },
  {
   "cell_type": "code",
   "execution_count": 3,
   "metadata": {
    "collapsed": true
   },
   "outputs": [],
   "source": [
    "#P0 (percentage of people in the control group that are employed)\n",
    "#P1 (percentage of people in the sample group that are employed)\n",
    "\n",
    "#H0 P0 - P1 >= 0\n",
    "\n",
    "P0 = 3.5 / 100\n",
    "P1 = 70.1 / 100\n",
    "alpha = 0.05\n",
    "\n",
    "#Get the sample sizes from the table\n",
    "n_0=409\n",
    "n_1=564"
   ]
  },
  {
   "cell_type": "code",
   "execution_count": null,
   "metadata": {
    "collapsed": true
   },
   "outputs": [],
   "source": []
  },
  {
   "cell_type": "code",
   "execution_count": 7,
   "metadata": {
    "collapsed": false
   },
   "outputs": [],
   "source": [
    "def p_tot(po,p1,n0,n1):\n",
    "    return (po * n0 + p1 * n1) / (n0 + n1)\n",
    "\n",
    "def z (p0,p1,n0,n1,p_t):\n",
    "    num = p0-p1\n",
    "    den = np.sqrt(((p_t * (1-p_t) / n0) + (p_t * (1-p_t) / n1)))\n",
    "    return (num/den)"
   ]
  },
  {
   "cell_type": "code",
   "execution_count": null,
   "metadata": {
    "collapsed": true
   },
   "outputs": [],
   "source": []
  },
  {
   "cell_type": "code",
   "execution_count": null,
   "metadata": {
    "collapsed": true
   },
   "outputs": [],
   "source": []
  }
 ],
 "metadata": {
  "kernelspec": {
   "display_name": "PUI2016_Python2",
   "language": "python",
   "name": "pui2016_python2"
  },
  "language_info": {
   "codemirror_mode": {
    "name": "ipython",
    "version": 2
   },
   "file_extension": ".py",
   "mimetype": "text/x-python",
   "name": "python",
   "nbconvert_exporter": "python",
   "pygments_lexer": "ipython2",
   "version": "2.7.12"
  }
 },
 "nbformat": 4,
 "nbformat_minor": 0
}
