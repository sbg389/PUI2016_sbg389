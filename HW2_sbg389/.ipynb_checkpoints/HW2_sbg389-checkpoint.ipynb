{
 "cells": [
  {
   "cell_type": "markdown",
   "metadata": {},
   "source": [
    "# HW2 Assingment 3"
   ]
  },
  {
   "cell_type": "code",
   "execution_count": 6,
   "metadata": {
    "collapsed": false
   },
   "outputs": [
    {
     "name": "stdout",
     "output_type": "stream",
     "text": [
      "/gws/open/NYCOpenData/nycopendata/data\n"
     ]
    }
   ],
   "source": [
    "import pandas as pd\n",
    "import os\n",
    "import matplotlib.pyplot as plt\n",
    "%matplotlib inline\n",
    "\n",
    "#Verify that the enviromental variable is set\n",
    "DFDATA = os.getenv('DFDATA')\n",
    "print (DFDATA)"
   ]
  },
  {
   "cell_type": "code",
   "execution_count": 17,
   "metadata": {
    "collapsed": false
   },
   "outputs": [
    {
     "data": {
      "text/html": [
       "<div>\n",
       "<table border=\"1\" class=\"dataframe\">\n",
       "  <thead>\n",
       "    <tr style=\"text-align: right;\">\n",
       "      <th></th>\n",
       "      <th>BBL</th>\n",
       "      <th>Street Number</th>\n",
       "      <th>Street Name</th>\n",
       "      <th>Borough</th>\n",
       "      <th>Zip</th>\n",
       "      <th>Benchmarking Submission</th>\n",
       "      <th>Entry Number</th>\n",
       "      <th>Site EUI(kBtu/ft2)</th>\n",
       "      <th>Weather Normalized Source EUI(kBtu/ft2)</th>\n",
       "      <th>Indoor Water Intensity (All Water Sources)(gal/ft2)</th>\n",
       "      <th>Reported Water Method</th>\n",
       "      <th>ENERGY STAR Score</th>\n",
       "      <th>Total GHG Emissions(MtCO2e)</th>\n",
       "      <th>Property Floor Area (Buildngs and Parking)(ft2)</th>\n",
       "      <th>Primary Property Type - Self Selected</th>\n",
       "      <th>Number of Buildings</th>\n",
       "      <th>Reported BINs</th>\n",
       "    </tr>\n",
       "  </thead>\n",
       "  <tbody>\n",
       "    <tr>\n",
       "      <th>0</th>\n",
       "      <td>1000010010</td>\n",
       "      <td>1</td>\n",
       "      <td>GOVERNORS ISLAND</td>\n",
       "      <td>MANHATTAN</td>\n",
       "      <td>10004</td>\n",
       "      <td>No Record as of 08/1/13</td>\n",
       "      <td>NaN</td>\n",
       "      <td>NaN</td>\n",
       "      <td>NaN</td>\n",
       "      <td>NaN</td>\n",
       "      <td>NaN</td>\n",
       "      <td>NaN</td>\n",
       "      <td>NaN</td>\n",
       "      <td>NaN</td>\n",
       "      <td>NaN</td>\n",
       "      <td>1</td>\n",
       "      <td>NaN</td>\n",
       "    </tr>\n",
       "    <tr>\n",
       "      <th>1</th>\n",
       "      <td>1000020002</td>\n",
       "      <td>NaN</td>\n",
       "      <td>MARGINAL STREET</td>\n",
       "      <td>MANHATTAN</td>\n",
       "      <td>10004</td>\n",
       "      <td>No Record as of 08/1/13</td>\n",
       "      <td>NaN</td>\n",
       "      <td>NaN</td>\n",
       "      <td>NaN</td>\n",
       "      <td>NaN</td>\n",
       "      <td>NaN</td>\n",
       "      <td>NaN</td>\n",
       "      <td>NaN</td>\n",
       "      <td>NaN</td>\n",
       "      <td>NaN</td>\n",
       "      <td>0</td>\n",
       "      <td>NaN</td>\n",
       "    </tr>\n",
       "    <tr>\n",
       "      <th>2</th>\n",
       "      <td>1000047501</td>\n",
       "      <td>1</td>\n",
       "      <td>WATER STREET</td>\n",
       "      <td>MANHATTAN</td>\n",
       "      <td>10004</td>\n",
       "      <td>Yes</td>\n",
       "      <td>41.0</td>\n",
       "      <td>102.0</td>\n",
       "      <td>287.9</td>\n",
       "      <td>16.37</td>\n",
       "      <td>Manual</td>\n",
       "      <td>75</td>\n",
       "      <td>25932.68</td>\n",
       "      <td>2428325.0</td>\n",
       "      <td>Office</td>\n",
       "      <td>1</td>\n",
       "      <td>1000005</td>\n",
       "    </tr>\n",
       "    <tr>\n",
       "      <th>3</th>\n",
       "      <td>1000057501</td>\n",
       "      <td>125</td>\n",
       "      <td>BROAD STREET</td>\n",
       "      <td>MANHATTAN</td>\n",
       "      <td>10004</td>\n",
       "      <td>Yes</td>\n",
       "      <td>3871.0</td>\n",
       "      <td>119.6</td>\n",
       "      <td>261.5</td>\n",
       "      <td>NaN</td>\n",
       "      <td>Manual</td>\n",
       "      <td>70</td>\n",
       "      <td>11637.42</td>\n",
       "      <td>1338000.0</td>\n",
       "      <td>Office</td>\n",
       "      <td>1</td>\n",
       "      <td>1000006</td>\n",
       "    </tr>\n",
       "  </tbody>\n",
       "</table>\n",
       "</div>"
      ],
      "text/plain": [
       "          BBL Street Number       Street Name    Borough    Zip  \\\n",
       "0  1000010010             1  GOVERNORS ISLAND  MANHATTAN  10004   \n",
       "1  1000020002           NaN   MARGINAL STREET  MANHATTAN  10004   \n",
       "2  1000047501             1      WATER STREET  MANHATTAN  10004   \n",
       "3  1000057501           125      BROAD STREET  MANHATTAN  10004   \n",
       "\n",
       "   Benchmarking Submission  Entry Number  Site EUI(kBtu/ft2)  \\\n",
       "0  No Record as of 08/1/13           NaN                 NaN   \n",
       "1  No Record as of 08/1/13           NaN                 NaN   \n",
       "2                      Yes          41.0               102.0   \n",
       "3                      Yes        3871.0               119.6   \n",
       "\n",
       "   Weather Normalized Source EUI(kBtu/ft2)  \\\n",
       "0                                      NaN   \n",
       "1                                      NaN   \n",
       "2                                    287.9   \n",
       "3                                    261.5   \n",
       "\n",
       "   Indoor Water Intensity (All Water Sources)(gal/ft2) Reported Water Method  \\\n",
       "0                                                NaN                     NaN   \n",
       "1                                                NaN                     NaN   \n",
       "2                                              16.37                  Manual   \n",
       "3                                                NaN                  Manual   \n",
       "\n",
       "  ENERGY STAR Score  Total GHG Emissions(MtCO2e)  \\\n",
       "0               NaN                          NaN   \n",
       "1               NaN                          NaN   \n",
       "2                75                     25932.68   \n",
       "3                70                     11637.42   \n",
       "\n",
       "   Property Floor Area (Buildngs and Parking)(ft2)  \\\n",
       "0                                              NaN   \n",
       "1                                              NaN   \n",
       "2                                        2428325.0   \n",
       "3                                        1338000.0   \n",
       "\n",
       "  Primary Property Type - Self Selected  Number of Buildings Reported BINs  \n",
       "0                                   NaN                    1           NaN  \n",
       "1                                   NaN                    0           NaN  \n",
       "2                                Office                    1       1000005  \n",
       "3                                Office                    1       1000006  "
      ]
     },
     "execution_count": 17,
     "metadata": {},
     "output_type": "execute_result"
    }
   ],
   "source": [
    "#the variable is there but there seems to be a missing '/' at the end\n",
    "\n",
    "#Dataset from the datahub\n",
    "#https://datahub.cusp.nyu.edu/dataset/5gde-fmj3\n",
    "\n",
    "#load the csv with the dataset into a pandas DataFrame and diplay the top 4 rows\n",
    "df = pd.read_csv(DFDATA + '/5gde-fmj3/1414246119/5gde-fmj3')\n",
    "df.head(4)"
   ]
  },
  {
   "cell_type": "code",
   "execution_count": 27,
   "metadata": {
    "collapsed": false
   },
   "outputs": [
    {
     "data": {
      "text/html": [
       "<div>\n",
       "<table border=\"1\" class=\"dataframe\">\n",
       "  <thead>\n",
       "    <tr style=\"text-align: right;\">\n",
       "      <th></th>\n",
       "      <th>BBL</th>\n",
       "      <th>Total GHG Emissions(MtCO2e)</th>\n",
       "      <th>Property Floor Area (Buildngs and Parking)(ft2)</th>\n",
       "    </tr>\n",
       "  </thead>\n",
       "  <tbody>\n",
       "    <tr>\n",
       "      <th>2</th>\n",
       "      <td>1000047501</td>\n",
       "      <td>25932.68</td>\n",
       "      <td>2428325.0</td>\n",
       "    </tr>\n",
       "    <tr>\n",
       "      <th>3</th>\n",
       "      <td>1000057501</td>\n",
       "      <td>11637.42</td>\n",
       "      <td>1338000.0</td>\n",
       "    </tr>\n",
       "    <tr>\n",
       "      <th>4</th>\n",
       "      <td>1003620001</td>\n",
       "      <td>13709.99</td>\n",
       "      <td>5207812.0</td>\n",
       "    </tr>\n",
       "    <tr>\n",
       "      <th>5</th>\n",
       "      <td>1000090001</td>\n",
       "      <td>7771.16</td>\n",
       "      <td>852840.0</td>\n",
       "    </tr>\n",
       "  </tbody>\n",
       "</table>\n",
       "</div>"
      ],
      "text/plain": [
       "          BBL  Total GHG Emissions(MtCO2e)  \\\n",
       "2  1000047501                     25932.68   \n",
       "3  1000057501                     11637.42   \n",
       "4  1003620001                     13709.99   \n",
       "5  1000090001                      7771.16   \n",
       "\n",
       "   Property Floor Area (Buildngs and Parking)(ft2)  \n",
       "2                                        2428325.0  \n",
       "3                                        1338000.0  \n",
       "4                                        5207812.0  \n",
       "5                                         852840.0  "
      ]
     },
     "execution_count": 27,
     "metadata": {},
     "output_type": "execute_result"
    }
   ],
   "source": [
    "#Removing all but two numerical values\n",
    "#Will pass a list with the selection, rather than droping the rest\n",
    "#Will also remove the nan\n",
    "dfsmall = df[[0,12,13]].dropna()\n",
    "dfsmall.head(4)"
   ]
  },
  {
   "cell_type": "code",
   "execution_count": 66,
   "metadata": {
    "collapsed": false
   },
   "outputs": [
    {
     "data": {
      "text/plain": [
       "<matplotlib.axes._subplots.AxesSubplot at 0x7f255aacd310>"
      ]
     },
     "execution_count": 66,
     "metadata": {},
     "output_type": "execute_result"
    },
    {
     "data": {
      "image/png": "[encoded data removed]",
      "text/plain": [
       "<matplotlib.figure.Figure at 0x7f255a9ec390>"
      ]
     },
     "metadata": {},
     "output_type": "display_data"
    }
   ],
   "source": [
    "#Plotting the dataframe using the dataframw native plotting capabilities\n",
    "#http://pandas.pydata.org/pandas-docs/version/0.15.0/visualization.html#scatter-plot\n",
    "\n",
    "dfsmall.plot(kind='scatter', y='Total GHG Emissions(MtCO2e)',\n",
    "              x='Property Floor Area (Buildngs and Parking)(ft2)',color='Black'\n",
    "              , label='Buildings GHC Emissions per floor area')\n"
   ]
  },
  {
   "cell_type": "markdown",
   "metadata": {},
   "source": [
    "# Extra Credit Assignment"
   ]
  },
  {
   "cell_type": "code",
   "execution_count": 63,
   "metadata": {
    "collapsed": false,
    "scrolled": false
   },
   "outputs": [
    {
     "data": {
      "text/plain": [
       "<matplotlib.axes._subplots.AxesSubplot at 0x7f25b8c74410>"
      ]
     },
     "execution_count": 63,
     "metadata": {},
     "output_type": "execute_result"
    },
    {
     "data": {
      "image/png": "[encoded data removed]",
      "text/plain": [
       "<matplotlib.figure.Figure at 0x7f25b8cdf110>"
      ]
     },
     "metadata": {},
     "output_type": "display_data"
    }
   ],
   "source": [
    "# Dataset from the datahub\n",
    "# \"Watershed Water Quality Data\"  \n",
    "# https://datahub.cusp.nyu.edu/dataset/y43c-5n92/resource/01f9cfa2-ab60-4618-883f-c5232d093a2c\n",
    "\n",
    "#load the csv with the dataset into a pandas DataFrame and diplay the top 4 rows\n",
    "df2 = pd.read_csv(DFDATA + '/y43c-5n92/1437487031/y43c-5n92')\n",
    "df2['Date']=pd.to_datetime(df2['Date'])\n",
    "df2.head(4)\n",
    "\n",
    "df2small=df2[[1,8]]\n",
    "df2small.head(4)\n",
    "\n",
    "#Checking the type after the conversion\n",
    "df2small['Date'][0]\n",
    "\n",
    "#Dataframe datetime conversion from Stack Overflow Discussion:\n",
    "#http://stackoverflow.com/questions/17134716/convert-dataframe-column-type-from-string-to-datetime\n",
    "\n",
    "\n",
    "df2small.plot(y='Average 24hrTurbidity(NTU)',\n",
    "              x='Date',color='Red', label='Watershed Daily Average Water Turbidity', rot=90)"
   ]
  },
  {
   "cell_type": "code",
   "execution_count": null,
   "metadata": {
    "collapsed": true
   },
   "outputs": [],
   "source": []
  }
 ],
 "metadata": {
  "kernelspec": {
   "display_name": "PUI2016_Python2",
   "language": "python",
   "name": "pui2016_python2"
  },
  "language_info": {
   "codemirror_mode": {
    "name": "ipython",
    "version": 2
   },
   "file_extension": ".py",
   "mimetype": "text/x-python",
   "name": "python",
   "nbconvert_exporter": "python",
   "pygments_lexer": "ipython2",
   "version": "2.7.12"
  }
 },
 "nbformat": 4,
 "nbformat_minor": 0
}
