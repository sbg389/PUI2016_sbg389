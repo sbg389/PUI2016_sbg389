{
 "cells": [
  {
   "cell_type": "code",
   "execution_count": 17,
   "metadata": {
    "collapsed": false
   },
   "outputs": [],
   "source": [
    "# Reference to calculate the Z Statistic\n",
    "# Assignment 3 in homework III (Demonstrating the the new bus route takes less time)\n",
    "\n",
    "# Read Statistics Tables\n",
    "# https://github.com/fedhere/UInotebooks/blob/master/HowToReadZandChisqTables.md\n",
    "    \n",
    "\n",
    "from __future__ import print_function, division\n",
    "import numpy as np"
   ]
  },
  {
   "cell_type": "code",
   "execution_count": 18,
   "metadata": {
    "collapsed": false
   },
   "outputs": [
    {
     "name": "stdout",
     "output_type": "stream",
     "text": [
      "  % Total    % Received % Xferd  Average Speed   Time    Time     Time  Current\n",
      "                                 Dload  Upload   Total   Spent    Left  Speed\n",
      "107  1179  107  1179    0     0   6876      0 --:--:-- --:--:-- --:--:-- 35727\n"
     ]
    }
   ],
   "source": [
    "#Read the time table for the new route:\n",
    "!curl -O https://raw.githubusercontent.com/fedhere/PUI2016_fb55/master/Lab3_fb55/times.txt"
   ]
  },
  {
   "cell_type": "code",
   "execution_count": 19,
   "metadata": {
    "collapsed": true
   },
   "outputs": [],
   "source": [
    "#Test parameters\n",
    "alpha = 0.05\n",
    "timesOldMean = 36.\n",
    "timesOldStd = 6.\n",
    "timesNew = np.loadtxt(\"times.txt\", unpack=True)"
   ]
  },
  {
   "cell_type": "code",
   "execution_count": 20,
   "metadata": {
    "collapsed": false
   },
   "outputs": [
    {
     "name": "stdout",
     "output_type": "stream",
     "text": [
      "The new average travel time is 34.47\n"
     ]
    }
   ],
   "source": [
    "# Printing the new average time\n",
    "print(\"The new average travel time is {0:.2f}\".format(timesNew.mean()))"
   ]
  },
  {
   "cell_type": "code",
   "execution_count": 25,
   "metadata": {
    "collapsed": false
   },
   "outputs": [
    {
     "name": "stdout",
     "output_type": "stream",
     "text": [
      "The Z statistics is Z = 2.56\n"
     ]
    }
   ],
   "source": [
    "# Make calculations for the Z Statstic considering the original parameters and the new data\n",
    "# formula for the Z statistic:\n",
    "\n",
    "#Z = (sample mean / population mean) / (population mean / square root (sample size))\n",
    "\n",
    "Z = (timesOldMean - timesNew.mean()) / (timesOldStd / np.sqrt(len(timesNew)))\n",
    "print(\"The Z statistics is Z = {0:.2f}\".format(Z))"
   ]
  },
  {
   "cell_type": "code",
   "execution_count": 26,
   "metadata": {
    "collapsed": false
   },
   "outputs": [
    {
     "name": "stdout",
     "output_type": "stream",
     "text": [
      "Z score for Bus X8 rerouting: 2.6\n",
      "This means we are 2.6 standard deviations away\n",
      "from the mean of the old trip duration\n",
      "\n",
      "\n",
      "The Null Hypothesis that the new route does not improve commuting\n",
      "IS REJECTED at the 95.0% significance level\n"
     ]
    }
   ],
   "source": [
    "#This means that the new mean is 2.6 standard deviations away from the mean of the old trip duration\n",
    "\n",
    "print(\"Z score for Bus X8 rerouting: {0:.1f}\".format(Z))\n",
    "print(\"This means we are {0:.1f} standard deviations away\".format(Z))\n",
    "print(\"from the mean of the old trip duration\\n\\n\")\n",
    "if Z > 2:\n",
    "    result = \"IS REJECTED\"\n",
    "else: \n",
    "    result = \"CANNOT BE REJECTED\"\n",
    "\n",
    "print(\"The Null Hypothesis that the new route does not improve commuting\")\n",
    "print(\"{0:s} at the {1:.1f}% significance level\".format(result, 100*(1-alpha)))\n",
    "\n",
    "# A lookup on the table tell us that P for Z score of 2.6 is 0.00466"
   ]
  }
 ],
 "metadata": {
  "kernelspec": {
   "display_name": "PUI2016_Python2",
   "language": "python",
   "name": "pui2016_python2"
  },
  "language_info": {
   "codemirror_mode": {
    "name": "ipython",
    "version": 2
   },
   "file_extension": ".py",
   "mimetype": "text/x-python",
   "name": "python",
   "nbconvert_exporter": "python",
   "pygments_lexer": "ipython2",
   "version": "2.7.12"
  }
 },
 "nbformat": 4,
 "nbformat_minor": 0
}
