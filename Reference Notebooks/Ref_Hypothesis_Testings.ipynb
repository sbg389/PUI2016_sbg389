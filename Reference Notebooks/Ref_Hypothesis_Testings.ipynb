{
 "cells": [
  {
   "cell_type": "markdown",
   "metadata": {},
   "source": [
    "## This notebooks contains samples of Hypothesis testing using different tests\n",
    "### Part of the examples are from the HW and PUI2016 Class notebooks\n"
   ]
  },
  {
   "cell_type": "code",
   "execution_count": 6,
   "metadata": {
    "collapsed": false
   },
   "outputs": [
    {
     "name": "stdout",
     "output_type": "stream",
     "text": [
      "Populating the interactive namespace from numpy and matplotlib\n"
     ]
    }
   ],
   "source": [
    "#Imports\n",
    "from __future__ import print_function,division\n",
    "import os\n",
    "import sys\n",
    "import numpy as np\n",
    "import pylab as pl\n",
    "import json\n",
    "import os\n",
    "import scipy\n",
    "from scipy import stats\n",
    "\n",
    "%pylab inline"
   ]
  },
  {
   "cell_type": "markdown",
   "metadata": {},
   "source": [
    "#### Test of proportions using Binomial Distribution (Bernoulli)\n",
    "\n",
    "Similar to the HW4_assignment I (Strategies for the hard to employ / prission).\n",
    "\n",
    "Reference: http://stattrek.com/hypothesis-test/difference-in-proportions.aspx?Tutorial=AP\n",
    "\n",
    "We have to groups (control and test sample) and want to demonstrate one of three things:\n",
    "\n",
    "    P1 - P2 = 0\n",
    "    P1 - P2 > 0\n",
    "    P1 - P2 < 0\n",
    "\n",
    "For which we formulate the null hypothesis \n",
    "\n",
    "    P1 - P2 ≠ 0\n",
    "    P1 - P2 < 0\n",
    "    P1 - P2 > 0\n",
    "\n",
    "We will use a z-test, which is defined as \n",
    "\n",
    "    z = (p1 - p2) / SE\n",
    "\n",
    "where p1 is the proportion from sample 1, p2 is the proportion from sample 2, and SE is the standard error of the sampling distribution.\n",
    "\n",
    "Will get an example where we demonstrate that the % of former prisoners employed after release is the same or lower for candidates who participated in the program as for the control group, significance level p=0.05¶ \n",
    "\n",
    "# $H_0: P_0 - P_1 \\geq$    0\n",
    "    \n",
    "# $H_a: P_0 - P_1 $< 0    \n"
   ]
  },
  {
   "cell_type": "code",
   "execution_count": 7,
   "metadata": {
    "collapsed": false
   },
   "outputs": [
    {
     "name": "stdout",
     "output_type": "stream",
     "text": [
      "The zscore is 20.7697865408\n",
      "0.843752354979\n",
      "P value for one sided test 4.06092069876e-96\n",
      "is the p value 0.00 smaller than the critical value 0.05?\n",
      "YES!\n",
      "the Null hypothesis is rejected\n"
     ]
    }
   ],
   "source": [
    "# Define functions for calculating the proportion for the samples (Using the Hard To Employ Data)\n",
    "# P_0 corresponds to the Control Group\n",
    "# P_1 corresponds to the Test Group\n",
    "\n",
    "#Percentages for each of the groups\n",
    "P_0=0.035\n",
    "P_1=0.701\n",
    "\n",
    "#groups populations\n",
    "n_0 = 409\n",
    "n_1 = 564\n",
    "\n",
    "#define the sample proportion first (needed to calculate the Standard Error later)\n",
    "p = lambda p0, p1, n0, n1: (p0 * n0 + p1 * n1) / (n0 + n1)\n",
    "\n",
    "#define the standard error\n",
    "se = lambda p, n0, n1: np.sqrt(p * (1 - p) * (1.0 / n0 + 1.0 / n1)) \n",
    "\n",
    "#with the se we can calculate the zscore\n",
    "zscore = lambda p0, p1, s : (p0 - p1) / s\n",
    "\n",
    "#calculate the z value for our test\n",
    "z_2y = zscore(P_1, P_0, se(p(P_0, P_1, n_0, n_1), n_0, n_1))\n",
    "print ('The zscore is ' + str(z_2y))\n",
    "\n",
    "# now we have to calculate the p value for the z that we got. \n",
    "# For this we use the lookup on the table (or functions)\n",
    "# Survibability function\n",
    "p_values_one_sided = scipy.stats.norm.sf(abs(z_2y)) #one-sided\n",
    "\n",
    "#Using the ndtr function that returns the \n",
    "print (scipy.special.ndtr(1.01))\n",
    "\n",
    "p_values_two_sided = scipy.stats.norm.sf(abs(z_2y))*2 #twosided\n",
    "\n",
    "print ('P value for one sided test ' + str (p_values_one_sided))\n",
    "\n",
    "#If we were trying to test if both groups were equal, then it will be a two sided test\n",
    "#print ('P value for two sided test ' + str (p_values_two_sided))\n",
    "\n",
    "alpha = 0.05\n",
    "\n",
    "#Reporting the results (compare the P value Vs the Alpha)\n",
    "def report_result(p,a):\n",
    "    print ('is the p value ' + \n",
    "           '{0:.2f} smaller than the critical value {1:.2f}?'.format(p,a))\n",
    "    if p < a:\n",
    "        print (\"YES!\")\n",
    "    else: \n",
    "        print (\"NO!\")\n",
    "    \n",
    "    print ('the Null hypothesis is {}'.format(\\\n",
    "                            'rejected' if p < a  else 'not rejected') )\n",
    "\n",
    "    \n",
    "report_result(p_values_one_sided, alpha)"
   ]
  }
 ],
 "metadata": {
  "kernelspec": {
   "display_name": "PUI2016_Python2",
   "language": "python",
   "name": "pui2016_python2"
  },
  "language_info": {
   "codemirror_mode": {
    "name": "ipython",
    "version": 2
   },
   "file_extension": ".py",
   "mimetype": "text/x-python",
   "name": "python",
   "nbconvert_exporter": "python",
   "pygments_lexer": "ipython2",
   "version": "2.7.12"
  }
 },
 "nbformat": 4,
 "nbformat_minor": 0
}
