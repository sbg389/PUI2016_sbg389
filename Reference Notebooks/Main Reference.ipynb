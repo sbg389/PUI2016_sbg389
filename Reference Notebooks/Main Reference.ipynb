{
 "cells": [
  {
   "cell_type": "code",
   "execution_count": 10,
   "metadata": {
    "collapsed": false
   },
   "outputs": [
    {
     "name": "stdout",
     "output_type": "stream",
     "text": [
      "Populating the interactive namespace from numpy and matplotlib\n"
     ]
    }
   ],
   "source": [
    "from __future__ import print_function, division\n",
    "\n",
    "# Standard imports to work with datasets, plots, etc.\n",
    "import pylab as pl\n",
    "import pandas as pd\n",
    "import geopandas as gpd\n",
    "import numpy as np\n",
    "import os\n",
    "import json\n",
    "import requests\n",
    "import urllib2\n",
    "from pandas.tools.plotting import scatter_matrix\n",
    "import statsmodels.api as sm\n",
    "import statsmodels.formula.api as smf\n",
    "from scipy.interpolate import *\n",
    "\n",
    "#loading rcParams from JSON template (created from Federica's fbb_matplotlibrc.json)\n",
    "url = 'https://s3.amazonaws.com/sb-public/sbg389_matplotlibrc.json'\n",
    "resp = requests.get(url=url)\n",
    "data = json.loads(resp.text)\n",
    "# update the rcParams object\n",
    "pl.rcParams.update(data)\n",
    "\n",
    "%pylab inline"
   ]
  },
  {
   "cell_type": "code",
   "execution_count": null,
   "metadata": {
    "collapsed": true
   },
   "outputs": [],
   "source": [
    "# Getting and move things around with bash commands\n",
    "# Download the manhattan pulto shape file\n",
    "# Created a MNMapPluto folder under PUIData to put all the Pluto Files\n",
    "\n",
    "# Use os.system to invoke bash commands to download (curl) unzip and move file\n",
    "\n",
    "# Curl -O Write output to a local file named like the remote file we get\n",
    "os.system(\"curl -O https://www1.nyc.gov/assets/planning/download/zip/data-maps/open-data/mn_mappluto_16v1.zip\")\n",
    "\n",
    "# Unzip the files and move to the MNMapPluto subfolder (they all start with MN)\n",
    "os.system(\"unzip -jn mn_mappluto_16v1.zip MN*\")\n",
    "\n",
    "#Move files to our PUIDATA\n",
    "os.system(\"mv \" + \"MN* \" + os.getenv(\"PUIDATA\") + \"/MNMapPluto\")\n",
    "\n",
    "# Read the Manhattan SHP file that was obtained from the PLUTO dataset\n",
    "# geopandas (or pandas, its the same) reading from local file\n",
    "bsize = gpd.read_file (os.getenv(\"PUIDATA\") + \"/MNMapPluto/MNMapPLUTO.shp\")\n",
    "bsize.head(2)\n"
   ]
  },
  {
   "cell_type": "code",
   "execution_count": 22,
   "metadata": {
    "collapsed": true
   },
   "outputs": [],
   "source": [
    "# Read a csv directly from the web (both geopandas and pandas are ok with it)\n",
    "nrg = pd.read_csv(\"https://data.cityofnewyork.us/api/views/rgfe-8y2z/rows.csv\")"
   ]
  },
  {
   "cell_type": "code",
   "execution_count": 14,
   "metadata": {
    "collapsed": false
   },
   "outputs": [
    {
     "name": "stdout",
     "output_type": "stream",
     "text": [
      "7\n"
     ]
    }
   ],
   "source": [
    "# Obtaining Data from a JSON API, putting it into a dictionary and reading a specific value\n",
    "\n",
    "MTAKEY = 'e106ffee-0fd1-4f89-bcda-30cf0d9e50c6'\n",
    "BUSLINE = 'B62'\n",
    "\n",
    "#Build the URI for the API Call concatenating the key and bus line from the argument parameters\n",
    "url = \"http://bustime.mta.info/api/siri/vehicle-monitoring.json?key=%s&VehicleMonitoringDetailLevel=calls&\" \\\n",
    "      \"LineRef=%s\"%(MTAKEY, BUSLINE)\n",
    "\n",
    "#Get the response and load the string representation into a dictionary\n",
    "response = urllib2.urlopen(url)\n",
    "mtadataString = response.read().decode(\"utf-8\")\n",
    "mtadata = json.loads(mtadataString)\n",
    "\n",
    "vehicleActivityArray = mtadata['Siri']['ServiceDelivery']['VehicleMonitoringDelivery']\n",
    "numberOfActiveBuses = len(vehicleActivityArray[0]['VehicleActivity'])\n",
    "\n",
    "# print (vehicleActivityArray)\n",
    "print (numberOfActiveBuses)"
   ]
  },
  {
   "cell_type": "code",
   "execution_count": 30,
   "metadata": {
    "collapsed": false
   },
   "outputs": [
    {
     "name": "stdout",
     "output_type": "stream",
     "text": [
      "['Record Number', 'NYC Borough, Block, and Lot (BBL)', 'Co-reported BBL Status', 'BBLs Co-reported', 'Reported NYC Building Identificaiton Numbers (BINs)', 'Street Number', 'Street Name', 'Borough', 'Zip Code', 'DOF Benchmarking Submission Status', 'Site EUI(kBtu/ft2)', 'Weather Normalized Site EUI(kBtu/ft2)', 'Source EUI(kBtu/ft2)', 'Weather Normalized Source EUI(kBtu/ft2)', 'Municipally Supplied Potable Water - Indoor Intensity (gal/ft\\xc2\\xb2)', 'Automatic Water Benchmarking Eligible', 'Reported Water Method', 'ENERGY STAR Score', 'Total GHG Emissions(MtCO2e)', 'Direct GHG Emissions(MtCO2e)', 'Indirect GHG Emissions(MtCO2e)', 'Reported Property Floor Area (Building(s)) (ft\\xc2\\xb2)', 'DOF Property Floor Area (Buildngs and Parking)(ft2)', 'Primary Property Type - Self Selected', 'DOF Number of Buildings']\n",
      "\n",
      "['Record Number', 'NYC Borough, Block, and Lot (BBL)', 'Co-reported BBL Status', 'BBLs Co-reported', 'Reported NYC Building Identificaiton Numbers (BINs)', 'Street Number', 'Street Name', 'Borough', 'Zip Code', 'DOF Benchmarking Submission Status', 'Site EUI(kBtu/ft2)', 'Weather Normalized Site EUI(kBtu/ft2)', 'Source EUI(kBtu/ft2)', 'Weather Normalized Source EUI(kBtu/ft2)', 'Municipally Supplied Potable Water - Indoor Intensity (gal/ft\\xc2\\xb2)', 'Automatic Water Benchmarking Eligible', 'Reported Water Method', 'ENERGY STAR Score', 'Total GHG Emissions(MtCO2e)', 'Direct GHG Emissions(MtCO2e)', 'Indirect GHG Emissions(MtCO2e)', 'Reported Property Floor Area (Building(s)) (ft\\xc2\\xb2)', 'DOF Property Floor Area (Buildngs and Parking)(ft2)', 'Primary Property Type - Self Selected', 'DOF Number of Buildings']\n"
     ]
    }
   ],
   "source": [
    "# Clean up the dataframe:\n",
    "\n",
    "# List columns (so we can drop etc.)\n",
    "\n",
    "# List returns a list with the column names, that can be used to drop, select, etc.\n",
    "print (list (nrg.columns))\n",
    "\n",
    "# Rename Columns (so they can be called using dots and avoid errros with non ascii chars on the names (if any))\n",
    "#change Borough Block and Lot to BBL to work as a merge key \n",
    "nrg.rename(columns={'nyc_borough_block_and_lot_bbl': 'BBL'}, inplace=True)\n",
    "\n",
    "print ('')\n",
    "print (list (nrg.columns))"
   ]
  }
 ],
 "metadata": {
  "kernelspec": {
   "display_name": "PUI2016_Python2",
   "language": "python",
   "name": "pui2016_python2"
  },
  "language_info": {
   "codemirror_mode": {
    "name": "ipython",
    "version": 2
   },
   "file_extension": ".py",
   "mimetype": "text/x-python",
   "name": "python",
   "nbconvert_exporter": "python",
   "pygments_lexer": "ipython2",
   "version": "2.7.12"
  }
 },
 "nbformat": 4,
 "nbformat_minor": 0
}
