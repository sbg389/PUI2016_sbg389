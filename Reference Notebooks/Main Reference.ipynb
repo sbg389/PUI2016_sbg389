{
 "cells": [
  {
   "cell_type": "code",
   "execution_count": 10,
   "metadata": {
    "collapsed": false
   },
   "outputs": [
    {
     "name": "stdout",
     "output_type": "stream",
     "text": [
      "Populating the interactive namespace from numpy and matplotlib\n"
     ]
    }
   ],
   "source": [
    "from __future__ import print_function, division\n",
    "\n",
    "# Standard imports to work with datasets, plots, etc.\n",
    "import pylab as pl\n",
    "import pandas as pd\n",
    "import geopandas as gpd\n",
    "import numpy as np\n",
    "import os\n",
    "import json\n",
    "import requests\n",
    "import urllib2\n",
    "from pandas.tools.plotting import scatter_matrix\n",
    "import statsmodels.api as sm\n",
    "import statsmodels.formula.api as smf\n",
    "from scipy.interpolate import *\n",
    "\n",
    "#loading rcParams from JSON template (created from Federica's fbb_matplotlibrc.json)\n",
    "url = 'https://s3.amazonaws.com/sb-public/sbg389_matplotlibrc.json'\n",
    "resp = requests.get(url=url)\n",
    "data = json.loads(resp.text)\n",
    "# update the rcParams object\n",
    "pl.rcParams.update(data)\n",
    "\n",
    "%pylab inline"
   ]
  },
  {
   "cell_type": "code",
   "execution_count": null,
   "metadata": {
    "collapsed": true
   },
   "outputs": [],
   "source": [
    "# Getting and move things around with bash commands\n",
    "# Download the manhattan pulto shape file\n",
    "# Created a MNMapPluto folder under PUIData to put all the Pluto Files\n",
    "\n",
    "# Use os.system to invoke bash commands to download (curl) unzip and move file\n",
    "\n",
    "# Curl -O Write output to a local file named like the remote file we get\n",
    "os.system(\"curl -O https://www1.nyc.gov/assets/planning/download/zip/data-maps/open-data/mn_mappluto_16v1.zip\")\n",
    "\n",
    "# Unzip the files and move to the MNMapPluto subfolder (they all start with MN)\n",
    "os.system(\"unzip -jn mn_mappluto_16v1.zip MN*\")\n",
    "\n",
    "#Move files to our PUIDATA\n",
    "os.system(\"mv \" + \"MN* \" + os.getenv(\"PUIDATA\") + \"/MNMapPluto\")\n",
    "\n",
    "# Read the Manhattan SHP file that was obtained from the PLUTO dataset\n",
    "# geopandas (or pandas, its the same) reading from local file\n",
    "bsize = gpd.read_file (os.getenv(\"PUIDATA\") + \"/MNMapPluto/MNMapPLUTO.shp\")\n",
    "bsize.head(2)\n"
   ]
  },
  {
   "cell_type": "code",
   "execution_count": 22,
   "metadata": {
    "collapsed": true
   },
   "outputs": [],
   "source": [
    "# Read a csv directly from the web (both geopandas and pandas are ok with it)\n",
    "nrg = pd.read_csv(\"https://data.cityofnewyork.us/api/views/rgfe-8y2z/rows.csv\")"
   ]
  },
  {
   "cell_type": "code",
   "execution_count": 14,
   "metadata": {
    "collapsed": false
   },
   "outputs": [
    {
     "name": "stdout",
     "output_type": "stream",
     "text": [
      "7\n"
     ]
    }
   ],
   "source": [
    "# Obtaining Data from a JSON API, putting it into a dictionary and reading a specific value\n",
    "\n",
    "MTAKEY = ''\n",
    "BUSLINE = 'B62'\n",
    "\n",
    "#Build the URI for the API Call concatenating the key and bus line from the argument parameters\n",
    "url = \"http://bustime.mta.info/api/siri/vehicle-monitoring.json?key=%s&VehicleMonitoringDetailLevel=calls&\" \\\n",
    "      \"LineRef=%s\"%(MTAKEY, BUSLINE)\n",
    "\n",
    "#Get the response and load the string representation into a dictionary\n",
    "response = urllib2.urlopen(url)\n",
    "mtadataString = response.read().decode(\"utf-8\")\n",
    "mtadata = json.loads(mtadataString)\n",
    "\n",
    "vehicleActivityArray = mtadata['Siri']['ServiceDelivery']['VehicleMonitoringDelivery']\n",
    "numberOfActiveBuses = len(vehicleActivityArray[0]['VehicleActivity'])\n",
    "\n",
    "# print (vehicleActivityArray)\n",
    "print (numberOfActiveBuses)"
   ]
  },
  {
   "cell_type": "code",
   "execution_count": 36,
   "metadata": {
    "collapsed": false
   },
   "outputs": [
    {
     "name": "stdout",
     "output_type": "stream",
     "text": [
      "['BBL', 'Site EUI(kBtu/ft2)', 'reportedArea']\n",
      "\n",
      "['BBL', 'Site EUI(kBtu/ft2)', 'reportedArea']\n",
      "['BBL', 'Site EUI(kBtu/ft2)', 'reportedArea']\n"
     ]
    }
   ],
   "source": [
    "# Clean up the dataframe: Rename and List columns (so we can drop etc.)\n",
    "\n",
    "# List returns a list with the column names, that can be used to drop, select, etc.\n",
    "print (list (nrg.columns))\n",
    "\n",
    "# Rename Columns (so they can be called using dots and avoid errros with non ascii chars on the names (if any))\n",
    "#change Borough Block and Lot to BBL to work as a merge key \n",
    "nrg.rename(columns={'NYC Borough, Block, and Lot (BBL)': 'BBL'}, inplace=True)\n",
    "nrg.rename(columns={'Reported Property Floor Area (Building(s)) (ft²)': 'reportedArea'}, inplace=True)\n",
    "\n",
    "print ('')\n",
    "print (list (nrg.columns))\n",
    "\n",
    "# Select columns from the dataframe (rather than dropping)\n",
    "\n",
    "# Select the columns needed from nrg\n",
    "nrg = nrg[['BBL', 'Site EUI(kBtu/ft2)', 'reportedArea']]\n",
    "print (list(nrg.columns))"
   ]
  },
  {
   "cell_type": "code",
   "execution_count": 46,
   "metadata": {
    "collapsed": false
   },
   "outputs": [],
   "source": [
    "# Cleanup dataframe II eliminate non numeric / missing vlaues\n",
    "\n",
    "# Using pd.to_numeric with the coerce option rather than custom convert \n",
    "# This replaces non numeric values with a NaN\n",
    "nrg['Site EUI(kBtu/ft2)'] = pd.to_numeric(nrg['Site EUI(kBtu/ft2)'], errors='coerce')\n",
    "nrg['reportedArea'] = pd.to_numeric(nrg['reportedArea'], errors='coerce')\n",
    "nrg.head()\n",
    "\n",
    "# Now we eliminate NaNs from the rows (if at least one column is NaN, we drop the row)\n",
    "\n",
    "# On all columns\n",
    "nrg.dropna(axis=0, inplace=True )\n",
    "\n",
    "# On Specific columns\n",
    "nrg.dropna(subset = ['reportedArea', 'BBL'])"
   ]
  },
  {
   "cell_type": "code",
   "execution_count": 54,
   "metadata": {
    "collapsed": false
   },
   "outputs": [
    {
     "data": {
      "text/html": [
       "<div>\n",
       "<table border=\"1\" class=\"dataframe\">\n",
       "  <thead>\n",
       "    <tr style=\"text-align: right;\">\n",
       "      <th></th>\n",
       "      <th>BBL</th>\n",
       "      <th>Site EUI(kBtu/ft2)</th>\n",
       "      <th>reportedArea</th>\n",
       "      <th>log10reportedArea</th>\n",
       "    </tr>\n",
       "  </thead>\n",
       "  <tbody>\n",
       "    <tr>\n",
       "      <th>16</th>\n",
       "      <td>1.013110e+09</td>\n",
       "      <td>125.4</td>\n",
       "      <td>330000.0</td>\n",
       "      <td>5.518514</td>\n",
       "    </tr>\n",
       "    <tr>\n",
       "      <th>30</th>\n",
       "      <td>2.022150e+09</td>\n",
       "      <td>6224.5</td>\n",
       "      <td>342048.0</td>\n",
       "      <td>5.534087</td>\n",
       "    </tr>\n",
       "    <tr>\n",
       "      <th>44</th>\n",
       "      <td>1.010140e+09</td>\n",
       "      <td>154.9</td>\n",
       "      <td>841709.0</td>\n",
       "      <td>5.925162</td>\n",
       "    </tr>\n",
       "    <tr>\n",
       "      <th>45</th>\n",
       "      <td>4.002520e+09</td>\n",
       "      <td>46.0</td>\n",
       "      <td>390400.0</td>\n",
       "      <td>5.591510</td>\n",
       "    </tr>\n",
       "    <tr>\n",
       "      <th>56</th>\n",
       "      <td>4.004370e+09</td>\n",
       "      <td>66.2</td>\n",
       "      <td>528060.0</td>\n",
       "      <td>5.722683</td>\n",
       "    </tr>\n",
       "  </tbody>\n",
       "</table>\n",
       "</div>"
      ],
      "text/plain": [
       "             BBL  Site EUI(kBtu/ft2)  reportedArea  log10reportedArea\n",
       "16  1.013110e+09               125.4      330000.0           5.518514\n",
       "30  2.022150e+09              6224.5      342048.0           5.534087\n",
       "44  1.010140e+09               154.9      841709.0           5.925162\n",
       "45  4.002520e+09                46.0      390400.0           5.591510\n",
       "56  4.004370e+09                66.2      528060.0           5.722683"
      ]
     },
     "execution_count": 54,
     "metadata": {},
     "output_type": "execute_result"
    }
   ],
   "source": [
    "# Cleanup dataframe III broadcasting and selecting values that match certain condition\n",
    "# Using log\n",
    "\n",
    "# Creating a mask array of booleans with the indexes of the rows that match the condition\n",
    "nrgMask = ((nrg.reportedArea > 300000) & (nrg.reportedArea < 500000))\n",
    "\n",
    "# Hago un broadcast usando el mask array como selector\n",
    "nrg[nrgMask]\n",
    "\n",
    "# We can do this directly also, but the code is less readable, specially if the boolean conditions are \n",
    "# Long\n",
    "nrg[(nrg.reportedArea > 300000) & (nrg.reportedArea < 500000)]\n",
    "\n",
    "# We use log10 when we have either an X or Y variable that is N orders of magnitude \n",
    "# When the data is too \"close to the axis\"\n",
    "nrg['log10reportedArea'] = log10(nrg.reportedArea)\n",
    "nrg.head()"
   ]
  }
 ],
 "metadata": {
  "kernelspec": {
   "display_name": "PUI2016_Python2",
   "language": "python",
   "name": "pui2016_python2"
  },
  "language_info": {
   "codemirror_mode": {
    "name": "ipython",
    "version": 2
   },
   "file_extension": ".py",
   "mimetype": "text/x-python",
   "name": "python",
   "nbconvert_exporter": "python",
   "pygments_lexer": "ipython2",
   "version": "2.7.12"
  }
 },
 "nbformat": 4,
 "nbformat_minor": 0
}
